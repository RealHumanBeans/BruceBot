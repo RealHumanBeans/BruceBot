{
 "cells": [
  {
   "cell_type": "code",
   "execution_count": 1,
   "metadata": {},
   "outputs": [],
   "source": [
    "import pandas as pd\n",
    "import numpy as np\n",
    "import json"
   ]
  },
  {
   "cell_type": "code",
   "execution_count": 2,
   "metadata": {},
   "outputs": [
    {
     "data": {
      "text/plain": [
       "{'Date': 'Thu, 26 Apr 2018 17:13:36 +0000',\n",
       " 'From': 'Bruce A Lindvall <b-lindvall@northwestern.edu>',\n",
       " 'To': '\"PhD@mccormick.northwestern.edu\" <PhD@mccormick.northwestern.edu>',\n",
       " 'Subject': '[McCormick] P&G Information Session for PhDs and Postdocs - Friday,\\n May 4 at 10 t0 11:30 am',\n",
       " 'Text': [['text/plain',\n",
       "   'Quoted-printable',\n",
       "   \"P&G Information Session for: PhD's & Postdoctoral Fellows in STEM Disciplin=\\nes\\n\\nFriday, May 4 | 10:00am-11:30am | Tech L-168 | STEM PhDs and Postdocs\\n\\nP&G NU-PhD Recruiting team will hold a professional development session foc=\\nused on how to find and prepare materials for R&D opportunities. Speakers w=\\nill address how to prepare R&D specific resumes, job talks, and how to thin=\\nk about skill alignment with job postings. Refreshments will be provided!\\n\\nLog into CareerCat (Events > Information Sessions)<https://www.northwestern=\\n.edu/careers/job-intern-prep/resources/careercat/index.html> for complete d=\\netails and to RSVP.\\n\\nIf you have any questions, don't hesitate to contact me directly.\\n\\n\\n\\nBest,\\n\\nElysse Longiotti, MA, MS\\nAssistant Director of Student Career Advising\\nServing Students in The Graduate School\\nNorthwestern Career Advancement\\nNorthwestern University\\n620 Lincoln St.\\nEvanston, IL 60208\\nelysse.longiotti@northwestern.edu<mailto:elysse.longiotti@northwestern.edu>\\n847-491-5785\\n\\nWebsite<http://www.northwestern.edu/careers/> | Facebook<https://urldefense=\\n.proofpoint.com/v2/url?u=3Dhttp-3A__facebook.com_nucareeradvance&d=3DDwIFAg=\\n&c=3DyHlS04HhBraes5BQ9ueu5zKhE7rtNXt_d012z2PA6ws&r=3DlUwXYQ1bJmRb_IM_bmYyml=\\nMZeXwUqCSXbSLn7DshH6Y&m=3Dt2vSdSIn4iksgmlWci-A_GWtiND-YcSInXmtViXUV7I&s=3Dm=\\niKPFK1dvz0CMBb8bfD-O9g0msyTabEYXaMdbci27_w&e=3D> | Twitter<https://urldefen=\\nse.proofpoint.com/v2/url?u=3Dhttp-3A__twitter.com_nucareeradvance&d=3DDwIFA=\\ng&c=3DyHlS04HhBraes5BQ9ueu5zKhE7rtNXt_d012z2PA6ws&r=3DlUwXYQ1bJmRb_IM_bmYym=\\nlMZeXwUqCSXbSLn7DshH6Y&m=3Dt2vSdSIn4iksgmlWci-A_GWtiND-YcSInXmtViXUV7I&s=3D=\\nX4DMxlzekH_ICI4u4GP8koUtAjvA3sW00or6DeStnfE&e=3D> | LinkedIn<https://urldef=\\nense.proofpoint.com/v2/url?u=3Dhttps-3A__www.linkedin.com_groups_Northweste=\\nrn-2DCareer-2DAdvancement-2D1926036_about&d=3DDwIFAg&c=3DyHlS04HhBraes5BQ9u=\\neu5zKhE7rtNXt_d012z2PA6ws&r=3DlUwXYQ1bJmRb_IM_bmYymlMZeXwUqCSXbSLn7DshH6Y&m=\\n=3Dt2vSdSIn4iksgmlWci-A_GWtiND-YcSInXmtViXUV7I&s=3DGK_5Kg1dyUdajuFuyQWcK05O=\\nRDR_tLBZCIJrq_uLOLg&e=3D>\\n\\n\\n\\n\\n\\n\\n\"],\n",
       "  ['text/html',\n",
       "   'Quoted-printable',\n",
       "   'P&G Information Session for: PhD’s & Postdoctoral Fellow=\\ns in STEM Disciplines Friday, May 4 | 10:00am-11:30am | Tech L-168 | STEM PhDs and Postdocs= P&G NU-PhD Recruiting team will hold a professional development sessi=\\non focused on how to find and prepare materials for R&D opportunities. =\\nSpeakers will address how to prepare R&D specific resumes,\\n job talks, and how to think about skill alignment with job postings. Re=\\nfreshments will be provided! Log into CareerCat (Events > Info=\\nrmation Sessions) for\\n complete details and to RSVP. If you have any questions, don’t hesitate to contact me directly. Best, =\\nspan> Elysse Longiotti, MA, MS <=\\nspan style=3D\"font-size:14.0pt;color:black\"> Assistant Director of Student Career Ad=\\nvising Serving Students in The Graduate Schoo=\\nl = Northwestern Career Advancement <=\\nspan style=3D\"font-size:14.0pt;color:black\"> Northwes=\\ntern University 620 Lincoln St. Evanston, IL 60208 elysse.longiotti@northwestern.edu<=\\n/span> =\\nspan> 847-491-5785 Website | Facebook | Twitter | <=\\nspan style=3D\"color:blue\">LinkedIn =']]}"
      ]
     },
     "execution_count": 2,
     "metadata": {},
     "output_type": "execute_result"
    }
   ],
   "source": [
    "# Import Bruce emails\n",
    "with open('BruceMail.json') as json_file: \n",
    "    data = json.load(json_file)\n",
    "data['0']"
   ]
  },
  {
   "cell_type": "code",
   "execution_count": null,
   "metadata": {},
   "outputs": [],
   "source": []
  }
 ],
 "metadata": {
  "kernelspec": {
   "display_name": "Python 3",
   "language": "python",
   "name": "python3"
  },
  "language_info": {
   "codemirror_mode": {
    "name": "ipython",
    "version": 3
   },
   "file_extension": ".py",
   "mimetype": "text/x-python",
   "name": "python",
   "nbconvert_exporter": "python",
   "pygments_lexer": "ipython3",
   "version": "3.7.6"
  }
 },
 "nbformat": 4,
 "nbformat_minor": 2
}
